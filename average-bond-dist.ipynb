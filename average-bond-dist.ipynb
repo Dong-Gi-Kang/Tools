{
  "nbformat": 4,
  "nbformat_minor": 0,
  "metadata": {
    "colab": {
      "name": "Untitled0.ipynb",
      "provenance": [],
      "authorship_tag": "ABX9TyMqnOGkvHHWl8YUEAsbHfFm",
      "include_colab_link": true
    },
    "kernelspec": {
      "name": "python3",
      "display_name": "Python 3"
    }
  },
  "cells": [
    {
      "cell_type": "markdown",
      "metadata": {
        "id": "view-in-github",
        "colab_type": "text"
      },
      "source": [
        "<a href=\"https://colab.research.google.com/github/Dong-Gi-Kang/Tools/blob/master/average-bond-dist.ipynb\" target=\"_parent\"><img src=\"https://colab.research.google.com/assets/colab-badge.svg\" alt=\"Open In Colab\"/></a>"
      ]
    },
    {
      "cell_type": "code",
      "metadata": {
        "id": "ymIkCA6FXYgZ"
      },
      "source": [
        "# Measuring average bond distance between cations and anions\n",
        "import numpy as np\n",
        "import os\n",
        "\n",
        "def cat_ani_dist(XYZ, size):\n",
        "\n",
        "    temp1 = \"temp_1\"\n",
        "    temp2 = \"temp_2\"\n",
        "    temp3 = \"temp_3\"\n",
        "    s1 = ' '\n",
        "\n",
        "    with open(XYZ, 'r') as f:\n",
        "        lines = f.readlines()\n",
        "        l1 = lines[2 :]\n",
        "        str1 = s1.join(l1)\n",
        "        with open(temp1, 'w') as f:\n",
        "            f.write(str1)\n",
        "\n",
        "    with open(temp1, 'r') as f:\n",
        "        print('Cartesian coordinates of atoms are:\\n ')\n",
        "        for line in f:\n",
        "            l2 = line.split()[1: 4]\n",
        "            s2 = '\\t'\n",
        "            str2 = s2.join(l2)\n",
        "            print(str2)\n",
        "            with open(temp2, 'a') as f:\n",
        "                f.write (str2 + '\\n')\n",
        "            f.close()\n",
        "        print('\\n')\n",
        "    #os.remove(temp1)\n",
        "\n",
        "\n",
        "\n",
        "    array = np.loadtxt(temp2)\n",
        "    cat = array[0:int(size)]\n",
        "    ani = array[int(size):]\n",
        "    print(\"\\n\")\n",
        "\n",
        "    with open(temp3, 'w') as f:\n",
        "        for c in cat:\n",
        "            for a in ani:\n",
        "                dist = np.sqrt(np.sum((c-a)**2))\n",
        "                if dist < float(2.4):                 # cut-off value\n",
        "                    f.write(str(dist)+'\\n')\n",
        "                    print(str(dist))\n",
        "\n",
        "    with open(temp3, 'r') as f:\n",
        "        array = np.loadtxt(temp3)\n",
        "        average = np.average(array)\n",
        "        print(\"\\nThe average bond length is : \" + str(average))\n",
        "\n",
        "    os.remove(temp1)\n",
        "    os.remove(temp2)\n",
        "    os.remove(temp3)"
      ],
      "execution_count": null,
      "outputs": []
    },
    {
      "cell_type": "code",
      "metadata": {
        "id": "j-FWQ3c0VoXs"
      },
      "source": [
        "# Measuring average bond distance between cations and anions\n",
        "import sys\n",
        "import os\n",
        "import numpy as np\n",
        "\n",
        "cwd = os.getcwd()\n",
        "xyz = raw_input(\"naem of the .xyz file ? : (type only the file name without '.xyz') \")\n",
        "\n",
        "path = cwd + '/' + str(xyz) + '.xyz'\n",
        "tmp1 = './temp1'\n",
        "tmp2 = './temp2'\n",
        "\n",
        "s1 = ' '\n",
        "\n",
        "with open(path, 'r') as f:\n",
        "    lines = f.readlines()\n",
        "    l1 = lines[2 :]\n",
        "    print(l1)\n",
        "    str1 = s1.join(l1)\n",
        "    with open(tmp1, 'w') as f:\n",
        "        f.write(str1)\n",
        "\n",
        "    print('\\nvector points have been copied safely\\n')\n",
        "\n",
        "with open(tmp1, 'r') as f:\n",
        "     print('Cartesian coordinates of atoms are:\\n ')\n",
        "     for line in f:\n",
        "        l2 = line.split()[1: 4]\n",
        "        s2 = '\\t'\n",
        "        str2 = s2.join(l2)\n",
        "        print(str2)\n",
        "        with open(tmp2, 'a') as f:\n",
        "            f.write (str2 + '\\n')\n",
        "        f.close()\n",
        "     print('\\n')\n",
        "os.remove(tmp1)\n",
        "\n",
        "a = np.loadtxt(tmp2)\n",
        "print('#######################')\n",
        "d = np.sqrt(np.sum((a[0]-a[1])**2))\n",
        "print(d)\n",
        "print('#######################\\n')"
      ],
      "execution_count": null,
      "outputs": []
    }
  ]
}