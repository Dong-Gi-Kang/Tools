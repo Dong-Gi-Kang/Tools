{
  "nbformat": 4,
  "nbformat_minor": 0,
  "metadata": {
    "colab": {
      "name": "Birch-Murnaghan_fitting.ipynb",
      "provenance": [],
      "authorship_tag": "ABX9TyOVLX4GJS7xFmyLEam32rb8",
      "include_colab_link": true
    },
    "kernelspec": {
      "name": "python3",
      "display_name": "Python 3"
    }
  },
  "cells": [
    {
      "cell_type": "markdown",
      "metadata": {
        "id": "view-in-github",
        "colab_type": "text"
      },
      "source": [
        "<a href=\"https://colab.research.google.com/github/Dong-Gi-Kang/Tools/blob/master/Birch_Murnaghan_fitting.ipynb\" target=\"_parent\"><img src=\"https://colab.research.google.com/assets/colab-badge.svg\" alt=\"Open In Colab\"/></a>"
      ]
    },
    {
      "cell_type": "code",
      "metadata": {
        "id": "25rFgHKokvsA",
        "colab_type": "code",
        "colab": {
          "base_uri": "https://localhost:8080/",
          "height": 325
        },
        "outputId": "3083d732-de60-4b3a-c51d-435b33f3fe7a"
      },
      "source": [
        "from scipy.optimize import leastsq\n",
        "import numpy as np\n",
        "\n",
        "#ZnO Wurtzite\n",
        "vols = np.array([99.160335, 99.154735, 99.149136, 99.140469, 99.137937, 99.132338, 99.12674, 99.121141, 99.109408, 99.109944, 99.104346])\n",
        "energies = np.array([-157.345364, -157.3453653, -157.3453663, -157.3453674, -157.3453675, -157.3453677, -157.3453675, -157.3453671, -157.3453648, -157.3453653, -157.345364])\n",
        "\n",
        "def Birch_Murnaghan(parameters, vol):\n",
        "    'From Phys. Rev. B 70, 224107'\n",
        "    E0, B0, BP, V0 = parameters\n",
        "\n",
        "    #E = E0 + B0 * vol / BP * (((V0 / vol)**BP) / (BP - 1) + 1) - V0 * B0 / (BP - 1.0)\n",
        "\n",
        "    eta = (vol/V0)**(1.0/3.0)\n",
        "    E = E0 + 9.0*B0*V0/16.0 * (eta**2-1.0)**2 * (6.0 + BP*(eta**2-1.0) - 4.0*eta**2)\n",
        "\n",
        "    return E\n",
        "\n",
        "def objective(pars, y, x):\n",
        "    #we will minimize this function\n",
        "    err =  y - Birch_Murnaghan(pars, x)\n",
        "    return err\n",
        "\n",
        "#x0 = [ -78.687630000, 136.213305692331, -1.42734268297441, 47.60529] #initial guess of parameters\n",
        "#x0 = [-78.68763231,   0.85859947,  -0.91380741,  47.60533506]\n",
        "x0 = [-78.6876323,    0.8590022,   -0.92303721,  47.60533033]   #final\n",
        "\n",
        "plsq = leastsq(objective, x0, args=(energies, vols))\n",
        "\n",
        "print ('Fitted parameters = {0}'.format(plsq[0]))\n",
        "\n",
        "import matplotlib.pyplot as plt\n",
        "plt.plot(vols,energies, 'ro')\n",
        "\n",
        "#plot the fitted curve on top\n",
        "x = np.linspace(min(vols), max(vols), 50)\n",
        "y = Murnaghan(plsq[0], x)\n",
        "plt.plot(x, y, 'k-')\n",
        "plt.xlabel('Volume')\n",
        "plt.ylabel('Energy')\n",
        "#plt.savefig('images/nonlinear-curve-fitting.png')"
      ],
      "execution_count": 11,
      "outputs": [
        {
          "output_type": "stream",
          "text": [
            "Fitted parameters = [-155.72552021   -0.84801059   -0.9126034    69.14925593]\n"
          ],
          "name": "stdout"
        },
        {
          "output_type": "execute_result",
          "data": {
            "text/plain": [
              "Text(0, 0.5, 'Energy')"
            ]
          },
          "metadata": {
            "tags": []
          },
          "execution_count": 11
        },
        {
          "output_type": "display_data",
          "data": {
            "image/png": "[encoded data removed]",
            "text/plain": [
              "<Figure size 432x288 with 1 Axes>"
            ]
          },
          "metadata": {
            "tags": [],
            "needs_background": "light"
          }
        }
      ]
    }
  ]
}